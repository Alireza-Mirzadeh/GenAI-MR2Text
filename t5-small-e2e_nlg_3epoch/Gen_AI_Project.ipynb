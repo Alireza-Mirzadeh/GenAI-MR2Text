{
  "cells": [
    {
      "cell_type": "code",
      "execution_count": 22,
      "metadata": {
        "colab": {
          "base_uri": "https://localhost:8080/"
        },
        "collapsed": true,
        "id": "aeE-fkuRiBEf",
        "outputId": "b4e2c6f5-de5d-4610-fcd8-810e2ca35631"
      },
      "outputs": [
        {
          "output_type": "stream",
          "name": "stdout",
          "text": [
            "\u001b[2K   \u001b[90m━━━━━━━━━━━━━━━━━━━━━━━━━━━━━━━━━━━━━━━━\u001b[0m \u001b[32m38.8/38.8 MB\u001b[0m \u001b[31m21.0 MB/s\u001b[0m eta \u001b[36m0:00:00\u001b[0m\n",
            "\u001b[?25h"
          ]
        }
      ],
      "source": [
        "! pip install transformers[torch] datasets==3.6.0 evaluate ctranslate2 --quiet"
      ]
    },
    {
      "cell_type": "code",
      "execution_count": 23,
      "metadata": {
        "id": "YaMYZAHjcgz3"
      },
      "outputs": [],
      "source": [
        "import datasets\n",
        "import transformers\n",
        "from transformers import AutoTokenizer, AutoModelForSeq2SeqLM\n",
        "from transformers import Trainer, TrainingArguments\n",
        "import torch\n",
        "import evaluate\n",
        "import ctranslate2\n",
        "from tqdm.notebook import tqdm\n",
        "import pandas as pd\n",
        "import copy\n"
      ]
    },
    {
      "cell_type": "code",
      "source": [
        "tokenizer = AutoTokenizer.from_pretrained(\"google-t5/t5-small\")\n",
        "model = AutoModelForSeq2SeqLM.from_pretrained(\"google-t5/t5-small\")"
      ],
      "metadata": {
        "id": "EM2g_pGoFvIC"
      },
      "execution_count": 3,
      "outputs": []
    },
    {
      "cell_type": "code",
      "execution_count": 4,
      "metadata": {
        "id": "aFYMsIfdcupl"
      },
      "outputs": [],
      "source": [
        "ds = datasets.load_dataset(\"GEM/e2e_nlg\")"
      ]
    },
    {
      "cell_type": "code",
      "execution_count": 5,
      "metadata": {
        "colab": {
          "base_uri": "https://localhost:8080/"
        },
        "id": "tDFc4aXufJ4b",
        "outputId": "7561fcc5-61aa-45da-ef14-de5004285c1a"
      },
      "outputs": [
        {
          "output_type": "execute_result",
          "data": {
            "text/plain": [
              "DatasetDict({\n",
              "    train: Dataset({\n",
              "        features: ['gem_id', 'gem_parent_id', 'meaning_representation', 'target', 'references'],\n",
              "        num_rows: 33525\n",
              "    })\n",
              "    validation: Dataset({\n",
              "        features: ['gem_id', 'gem_parent_id', 'meaning_representation', 'target', 'references'],\n",
              "        num_rows: 1484\n",
              "    })\n",
              "    test: Dataset({\n",
              "        features: ['gem_id', 'gem_parent_id', 'meaning_representation', 'target', 'references'],\n",
              "        num_rows: 1847\n",
              "    })\n",
              "    challenge_train_sample: Dataset({\n",
              "        features: ['gem_id', 'gem_parent_id', 'meaning_representation', 'target', 'references'],\n",
              "        num_rows: 500\n",
              "    })\n",
              "    challenge_validation_sample: Dataset({\n",
              "        features: ['gem_id', 'gem_parent_id', 'meaning_representation', 'target', 'references'],\n",
              "        num_rows: 500\n",
              "    })\n",
              "    challenge_test_scramble: Dataset({\n",
              "        features: ['gem_id', 'gem_parent_id', 'meaning_representation', 'target', 'references'],\n",
              "        num_rows: 500\n",
              "    })\n",
              "})"
            ]
          },
          "metadata": {},
          "execution_count": 5
        }
      ],
      "source": [
        "ds"
      ]
    },
    {
      "cell_type": "code",
      "source": [
        "ds['train'][0]"
      ],
      "metadata": {
        "colab": {
          "base_uri": "https://localhost:8080/"
        },
        "id": "vv4UxljABF-1",
        "outputId": "fcff7531-3cf0-4481-ba3d-504dc2a91be0"
      },
      "execution_count": 6,
      "outputs": [
        {
          "output_type": "execute_result",
          "data": {
            "text/plain": [
              "{'gem_id': 'e2e_nlg-train-0',\n",
              " 'gem_parent_id': 'e2e_nlg-train-0',\n",
              " 'meaning_representation': 'name[The Eagle], eatType[coffee shop], food[Japanese], priceRange[less than £20], customer rating[low], area[riverside], familyFriendly[yes], near[Burger King]',\n",
              " 'target': 'The Eagle is a low rated coffee shop near Burger King and the riverside that is family friendly and is less than £20 for Japanese food.',\n",
              " 'references': []}"
            ]
          },
          "metadata": {},
          "execution_count": 6
        }
      ]
    },
    {
      "cell_type": "code",
      "execution_count": 7,
      "metadata": {
        "colab": {
          "base_uri": "https://localhost:8080/"
        },
        "id": "3s07EZOMiVUL",
        "outputId": "4078e83f-e54c-4ec5-82b4-96c031b98c6e"
      },
      "outputs": [
        {
          "output_type": "execute_result",
          "data": {
            "text/plain": [
              "{'gem_id': 'e2e_nlg-test-0',\n",
              " 'gem_parent_id': 'e2e_nlg-test-0',\n",
              " 'meaning_representation': 'eatType[pub], food[Fast food], customer rating[high], area[riverside], familyFriendly[no], near[Café Rouge]',\n",
              " 'target': 'The Mills is not kid friendly as it is a riverside pub near Café Rouge.  Its mid priced fast food is highly rated.',\n",
              " 'references': ['The Mills is not kid friendly as it is a riverside pub near Café Rouge.  Its mid priced fast food is highly rated.']}"
            ]
          },
          "metadata": {},
          "execution_count": 7
        }
      ],
      "source": [
        "ds['test'][0]"
      ]
    },
    {
      "cell_type": "code",
      "source": [
        "# Keep the columns need fro fine-tuning\n",
        "columns_to_keep_train_val = ['meaning_representation', 'target']\n",
        "\n",
        "# Prepare train set\n",
        "train_dataset = ds['train'].remove_columns(\n",
        "    [col for col in ds['train'].column_names if col not in columns_to_keep_train_val]\n",
        ")\n",
        "\n",
        "# Prepare validation set\n",
        "validation_dataset = ds['validation'].remove_columns(\n",
        "    [col for col in ds['validation'].column_names if col not in columns_to_keep_train_val]\n",
        ")\n",
        "\n",
        "# Keep the columns need for Evaluation\n",
        "columns_to_keep_test = ['meaning_representation', 'target', 'references']\n",
        "# Prepare test set\n",
        "test_dataset = ds['test'].remove_columns(\n",
        "    [col for col in ds['test'].column_names if col not in columns_to_keep_test]\n",
        ")\n"
      ],
      "metadata": {
        "id": "qQJdJlqEBE4K"
      },
      "execution_count": 8,
      "outputs": []
    },
    {
      "cell_type": "code",
      "source": [
        "processed_dataset = datasets.DatasetDict({\n",
        "    'train': train_dataset,\n",
        "    'validation': validation_dataset,\n",
        "    'test': test_dataset\n",
        "})"
      ],
      "metadata": {
        "id": "fxSvc6s7D7LG"
      },
      "execution_count": 9,
      "outputs": []
    },
    {
      "cell_type": "code",
      "source": [
        "# Rename columns\n",
        "processed_dataset = processed_dataset.rename_column(\"meaning_representation\", \"input_text\")\n",
        "processed_dataset = processed_dataset.rename_column(\"target\", \"labels\")"
      ],
      "metadata": {
        "id": "F2tLjsw8Ggck"
      },
      "execution_count": 10,
      "outputs": []
    },
    {
      "cell_type": "code",
      "source": [
        "processed_dataset"
      ],
      "metadata": {
        "colab": {
          "base_uri": "https://localhost:8080/"
        },
        "id": "gf9qAzCyEO8i",
        "outputId": "9af73361-0e88-4c65-8db8-b73f39daec87"
      },
      "execution_count": 11,
      "outputs": [
        {
          "output_type": "execute_result",
          "data": {
            "text/plain": [
              "DatasetDict({\n",
              "    train: Dataset({\n",
              "        features: ['input_text', 'labels'],\n",
              "        num_rows: 33525\n",
              "    })\n",
              "    validation: Dataset({\n",
              "        features: ['input_text', 'labels'],\n",
              "        num_rows: 1484\n",
              "    })\n",
              "    test: Dataset({\n",
              "        features: ['input_text', 'labels', 'references'],\n",
              "        num_rows: 1847\n",
              "    })\n",
              "})"
            ]
          },
          "metadata": {},
          "execution_count": 11
        }
      ]
    },
    {
      "cell_type": "code",
      "source": [
        "# Tokenize the dataset\n",
        "def tokenize_function(batch):\n",
        "  model_inputs = tokenizer(batch[\"input_text\"], padding=\"max_length\", truncation=True, max_length=512)\n",
        "  with tokenizer.as_target_tokenizer():\n",
        "    labels = tokenizer(batch[\"labels\"], padding=\"max_length\", truncation=True, max_length=512)\n",
        "  model_inputs[\"labels\"] = labels[\"input_ids\"]\n",
        "  return model_inputs\n",
        "\n",
        "tokenized_dataset = processed_dataset.map(tokenize_function, batched=True)\n"
      ],
      "metadata": {
        "colab": {
          "base_uri": "https://localhost:8080/",
          "height": 104,
          "referenced_widgets": [
            "f04aab95d97e483298a16d607132ed1a",
            "c03a571ffa194fe18794aec2eae2454b",
            "b060958b0b6c4734b2e2d1f028c56621",
            "2a1b0e6b33b649ae82a24b0f0f5d3444",
            "37102f6555b446a789df0d74f954c48b",
            "1a97af7c8341454fb911cec7c7ade55c",
            "44b744772304448faac204ffee21ddaa",
            "b0220955ad2a4d62985cab91ae1f7f3a",
            "80bf84f63fd042269862468f66b66e45",
            "a12ca46c9bb24534908b28d3b0087676",
            "e5805635b1444a1b8e2b779b47945e5e"
          ]
        },
        "id": "8S2fMBaoEW7y",
        "outputId": "20e41198-2e5c-46e2-f32c-6724b55f786f"
      },
      "execution_count": 12,
      "outputs": [
        {
          "output_type": "display_data",
          "data": {
            "text/plain": [
              "Map:   0%|          | 0/1484 [00:00<?, ? examples/s]"
            ],
            "application/vnd.jupyter.widget-view+json": {
              "version_major": 2,
              "version_minor": 0,
              "model_id": "f04aab95d97e483298a16d607132ed1a"
            }
          },
          "metadata": {}
        },
        {
          "output_type": "stream",
          "name": "stderr",
          "text": [
            "/usr/local/lib/python3.12/dist-packages/transformers/tokenization_utils_base.py:4007: UserWarning: `as_target_tokenizer` is deprecated and will be removed in v5 of Transformers. You can tokenize your labels by using the argument `text_target` of the regular `__call__` method (either in the same call as your input texts if you use the same keyword arguments, or in a separate call.\n",
            "  warnings.warn(\n"
          ]
        }
      ]
    },
    {
      "cell_type": "code",
      "source": [
        "# Define the training arguments\n",
        "training_arguments = transformers.Seq2SeqTrainingArguments(\n",
        "    output_dir = 't5-small-e2e_nlg',\n",
        "    num_train_epochs = 3,\n",
        "    eval_strategy = 'epoch',\n",
        "    save_strategy='epoch',\n",
        "    per_device_train_batch_size = 16,\n",
        "    per_device_eval_batch_size = 16,\n",
        "    save_total_limit = 3,\n",
        "    load_best_model_at_end = True,\n",
        "    fp16=True,\n",
        "    optim='adafactor',\n",
        "    report_to = []\n",
        ")"
      ],
      "metadata": {
        "id": "fEdfIgTEHpmQ"
      },
      "execution_count": 14,
      "outputs": []
    },
    {
      "cell_type": "code",
      "source": [
        "trainer = Trainer(\n",
        "    model=model,\n",
        "    args=training_arguments,\n",
        "    train_dataset=tokenized_dataset[\"train\"],\n",
        "    eval_dataset=tokenized_dataset[\"validation\"],\n",
        "    tokenizer=tokenizer,\n",
        ")\n",
        "\n",
        "trainer.train()"
      ],
      "metadata": {
        "colab": {
          "base_uri": "https://localhost:8080/",
          "height": 311
        },
        "id": "C94jV3NnI_1n",
        "outputId": "aa977e92-35d5-4142-bd54-a51e88b89608"
      },
      "execution_count": 15,
      "outputs": [
        {
          "output_type": "stream",
          "name": "stderr",
          "text": [
            "/tmp/ipython-input-2215721696.py:1: FutureWarning: `tokenizer` is deprecated and will be removed in version 5.0.0 for `Trainer.__init__`. Use `processing_class` instead.\n",
            "  trainer = Trainer(\n"
          ]
        },
        {
          "output_type": "display_data",
          "data": {
            "text/plain": [
              "<IPython.core.display.HTML object>"
            ],
            "text/html": [
              "\n",
              "    <div>\n",
              "      \n",
              "      <progress value='6288' max='6288' style='width:300px; height:20px; vertical-align: middle;'></progress>\n",
              "      [6288/6288 1:12:55, Epoch 3/3]\n",
              "    </div>\n",
              "    <table border=\"1\" class=\"dataframe\">\n",
              "  <thead>\n",
              " <tr style=\"text-align: left;\">\n",
              "      <th>Epoch</th>\n",
              "      <th>Training Loss</th>\n",
              "      <th>Validation Loss</th>\n",
              "    </tr>\n",
              "  </thead>\n",
              "  <tbody>\n",
              "    <tr>\n",
              "      <td>1</td>\n",
              "      <td>0.074000</td>\n",
              "      <td>0.078370</td>\n",
              "    </tr>\n",
              "    <tr>\n",
              "      <td>2</td>\n",
              "      <td>0.068400</td>\n",
              "      <td>0.074207</td>\n",
              "    </tr>\n",
              "    <tr>\n",
              "      <td>3</td>\n",
              "      <td>0.066100</td>\n",
              "      <td>0.073335</td>\n",
              "    </tr>\n",
              "  </tbody>\n",
              "</table><p>"
            ]
          },
          "metadata": {}
        },
        {
          "output_type": "stream",
          "name": "stderr",
          "text": [
            "There were missing keys in the checkpoint model loaded: ['encoder.embed_tokens.weight', 'decoder.embed_tokens.weight', 'lm_head.weight'].\n"
          ]
        },
        {
          "output_type": "execute_result",
          "data": {
            "text/plain": [
              "TrainOutput(global_step=6288, training_loss=0.10142879844015185, metrics={'train_runtime': 4377.3727, 'train_samples_per_second': 22.976, 'train_steps_per_second': 1.436, 'total_flos': 1.36120016830464e+16, 'train_loss': 0.10142879844015185, 'epoch': 3.0})"
            ]
          },
          "metadata": {},
          "execution_count": 15
        }
      ]
    },
    {
      "cell_type": "code",
      "source": [
        "# Save the fine-tuned model\n",
        "model.save_pretrained('t5-small-e2e_nlg')\n",
        "\n",
        "# Save the tokenizer\n",
        "tokenizer.save_pretrained('t5-small-e2e_nlg')"
      ],
      "metadata": {
        "colab": {
          "base_uri": "https://localhost:8080/"
        },
        "id": "tA1RcIMLLqzp",
        "outputId": "f5b087cc-c5c9-4800-89d9-249ea867aac8"
      },
      "execution_count": 16,
      "outputs": [
        {
          "output_type": "execute_result",
          "data": {
            "text/plain": [
              "('t5-small-e2e_nlg/tokenizer_config.json',\n",
              " 't5-small-e2e_nlg/special_tokens_map.json',\n",
              " 't5-small-e2e_nlg/spiece.model',\n",
              " 't5-small-e2e_nlg/added_tokens.json',\n",
              " 't5-small-e2e_nlg/tokenizer.json')"
            ]
          },
          "metadata": {},
          "execution_count": 16
        }
      ]
    },
    {
      "cell_type": "code",
      "source": [
        "!zip -r t5-small-e2e_nlg.zip t5-small-e2e_nlg\n"
      ],
      "metadata": {
        "colab": {
          "base_uri": "https://localhost:8080/"
        },
        "id": "FDF50Q8EefVm",
        "outputId": "243cd544-4272-427b-ca6e-99b77af4c848"
      },
      "execution_count": 17,
      "outputs": [
        {
          "output_type": "stream",
          "name": "stdout",
          "text": [
            "  adding: t5-small-e2e_nlg/ (stored 0%)\n",
            "  adding: t5-small-e2e_nlg/tokenizer.json (deflated 74%)\n",
            "  adding: t5-small-e2e_nlg/tokenizer_config.json (deflated 95%)\n",
            "  adding: t5-small-e2e_nlg/model.safetensors (deflated 7%)\n",
            "  adding: t5-small-e2e_nlg/checkpoint-4192/ (stored 0%)\n",
            "  adding: t5-small-e2e_nlg/checkpoint-4192/scaler.pt (deflated 64%)\n",
            "  adding: t5-small-e2e_nlg/checkpoint-4192/rng_state.pth (deflated 26%)\n",
            "  adding: t5-small-e2e_nlg/checkpoint-4192/tokenizer.json (deflated 74%)\n",
            "  adding: t5-small-e2e_nlg/checkpoint-4192/tokenizer_config.json (deflated 95%)\n",
            "  adding: t5-small-e2e_nlg/checkpoint-4192/training_args.bin (deflated 53%)\n",
            "  adding: t5-small-e2e_nlg/checkpoint-4192/scheduler.pt (deflated 61%)\n",
            "  adding: t5-small-e2e_nlg/checkpoint-4192/model.safetensors (deflated 7%)\n",
            "  adding: t5-small-e2e_nlg/checkpoint-4192/special_tokens_map.json (deflated 85%)\n",
            "  adding: t5-small-e2e_nlg/checkpoint-4192/generation_config.json (deflated 27%)\n",
            "  adding: t5-small-e2e_nlg/checkpoint-4192/spiece.model (deflated 48%)\n",
            "  adding: t5-small-e2e_nlg/checkpoint-4192/optimizer.pt (deflated 16%)\n",
            "  adding: t5-small-e2e_nlg/checkpoint-4192/config.json (deflated 63%)\n",
            "  adding: t5-small-e2e_nlg/checkpoint-4192/trainer_state.json (deflated 68%)\n",
            "  adding: t5-small-e2e_nlg/special_tokens_map.json (deflated 85%)\n",
            "  adding: t5-small-e2e_nlg/generation_config.json (deflated 27%)\n",
            "  adding: t5-small-e2e_nlg/spiece.model (deflated 48%)\n",
            "  adding: t5-small-e2e_nlg/checkpoint-2096/ (stored 0%)\n",
            "  adding: t5-small-e2e_nlg/checkpoint-2096/scaler.pt (deflated 64%)\n",
            "  adding: t5-small-e2e_nlg/checkpoint-2096/rng_state.pth (deflated 26%)\n",
            "  adding: t5-small-e2e_nlg/checkpoint-2096/tokenizer.json (deflated 74%)\n",
            "  adding: t5-small-e2e_nlg/checkpoint-2096/tokenizer_config.json (deflated 95%)\n",
            "  adding: t5-small-e2e_nlg/checkpoint-2096/training_args.bin (deflated 53%)\n",
            "  adding: t5-small-e2e_nlg/checkpoint-2096/scheduler.pt (deflated 61%)\n",
            "  adding: t5-small-e2e_nlg/checkpoint-2096/model.safetensors (deflated 7%)\n",
            "  adding: t5-small-e2e_nlg/checkpoint-2096/special_tokens_map.json (deflated 85%)\n",
            "  adding: t5-small-e2e_nlg/checkpoint-2096/generation_config.json (deflated 27%)\n",
            "  adding: t5-small-e2e_nlg/checkpoint-2096/spiece.model (deflated 48%)\n",
            "  adding: t5-small-e2e_nlg/checkpoint-2096/optimizer.pt (deflated 16%)\n",
            "  adding: t5-small-e2e_nlg/checkpoint-2096/config.json (deflated 63%)\n",
            "  adding: t5-small-e2e_nlg/checkpoint-2096/trainer_state.json (deflated 62%)\n",
            "  adding: t5-small-e2e_nlg/checkpoint-6288/ (stored 0%)\n",
            "  adding: t5-small-e2e_nlg/checkpoint-6288/scaler.pt (deflated 64%)\n",
            "  adding: t5-small-e2e_nlg/checkpoint-6288/rng_state.pth (deflated 26%)\n",
            "  adding: t5-small-e2e_nlg/checkpoint-6288/tokenizer.json (deflated 74%)\n",
            "  adding: t5-small-e2e_nlg/checkpoint-6288/tokenizer_config.json (deflated 95%)\n",
            "  adding: t5-small-e2e_nlg/checkpoint-6288/training_args.bin (deflated 53%)\n",
            "  adding: t5-small-e2e_nlg/checkpoint-6288/scheduler.pt (deflated 61%)\n",
            "  adding: t5-small-e2e_nlg/checkpoint-6288/model.safetensors (deflated 7%)\n",
            "  adding: t5-small-e2e_nlg/checkpoint-6288/special_tokens_map.json (deflated 85%)\n",
            "  adding: t5-small-e2e_nlg/checkpoint-6288/generation_config.json (deflated 27%)\n",
            "  adding: t5-small-e2e_nlg/checkpoint-6288/spiece.model (deflated 48%)\n",
            "  adding: t5-small-e2e_nlg/checkpoint-6288/optimizer.pt (deflated 16%)\n",
            "  adding: t5-small-e2e_nlg/checkpoint-6288/config.json (deflated 63%)\n",
            "  adding: t5-small-e2e_nlg/checkpoint-6288/trainer_state.json (deflated 71%)\n",
            "  adding: t5-small-e2e_nlg/config.json (deflated 63%)\n"
          ]
        }
      ]
    },
    {
      "cell_type": "code",
      "source": [
        "# Convert model to ctranslate format\n",
        "! ct2-transformers-converter --model ./t5-small-e2e_nlg --output_dir t5-small-e2e_nlg-ct2"
      ],
      "metadata": {
        "colab": {
          "base_uri": "https://localhost:8080/"
        },
        "id": "Gz0ay16cX99X",
        "outputId": "2f401c92-2bfc-4304-afa2-d5f3a801e79b"
      },
      "execution_count": 24,
      "outputs": [
        {
          "output_type": "stream",
          "name": "stdout",
          "text": [
            "2025-09-23 16:53:29.209775: E external/local_xla/xla/stream_executor/cuda/cuda_fft.cc:467] Unable to register cuFFT factory: Attempting to register factory for plugin cuFFT when one has already been registered\n",
            "WARNING: All log messages before absl::InitializeLog() is called are written to STDERR\n",
            "E0000 00:00:1758646409.230150   74079 cuda_dnn.cc:8579] Unable to register cuDNN factory: Attempting to register factory for plugin cuDNN when one has already been registered\n",
            "E0000 00:00:1758646409.236469   74079 cuda_blas.cc:1407] Unable to register cuBLAS factory: Attempting to register factory for plugin cuBLAS when one has already been registered\n",
            "W0000 00:00:1758646409.253999   74079 computation_placer.cc:177] computation placer already registered. Please check linkage and avoid linking the same target more than once.\n",
            "W0000 00:00:1758646409.254024   74079 computation_placer.cc:177] computation placer already registered. Please check linkage and avoid linking the same target more than once.\n",
            "W0000 00:00:1758646409.254030   74079 computation_placer.cc:177] computation placer already registered. Please check linkage and avoid linking the same target more than once.\n",
            "W0000 00:00:1758646409.254033   74079 computation_placer.cc:177] computation placer already registered. Please check linkage and avoid linking the same target more than once.\n",
            "`torch_dtype` is deprecated! Use `dtype` instead!\n",
            "`torch_dtype` is deprecated! Use `dtype` instead!\n"
          ]
        }
      ]
    },
    {
      "cell_type": "markdown",
      "source": [
        "## Generation (Need Correction)"
      ],
      "metadata": {
        "id": "MC-JAa5ZaPLc"
      }
    },
    {
      "cell_type": "code",
      "source": [
        "# Instantiate model as ctranslate Translator and instantiate Tokenizer\n",
        "translator = ctranslate2.Translator(\n",
        "    't5-small-e2e_nlg-ct2',\n",
        "    device='cuda',\n",
        ")\n",
        "tokenizer = transformers.AutoTokenizer.from_pretrained('./t5-small-e2e_nlg')"
      ],
      "metadata": {
        "id": "rNy0WCtcYJvC"
      },
      "execution_count": 25,
      "outputs": []
    },
    {
      "cell_type": "code",
      "source": [
        "test_dataset = processed_dataset[\"test\"]\n",
        "inputs = test_dataset[\"input_text\"]\n",
        "labels = test_dataset[\"labels\"]\n"
      ],
      "metadata": {
        "id": "FidWTEIVaKeG"
      },
      "execution_count": 26,
      "outputs": []
    },
    {
      "cell_type": "code",
      "source": [
        "inputs_tokenized = [text.split() for text in inputs]"
      ],
      "metadata": {
        "id": "FR0bKhWygAog"
      },
      "execution_count": 28,
      "outputs": []
    },
    {
      "cell_type": "code",
      "source": [
        "batch_size = 8\n",
        "all_outputs = []\n",
        "\n",
        "for i in tqdm(range(0, len(inputs_tokenized), batch_size)):\n",
        "    batch = inputs_tokenized[i:i+batch_size]\n",
        "    results = translator.translate_batch(\n",
        "        batch,\n",
        "        max_batch_size=batch_size,\n",
        "        max_input_length=512,\n",
        "        max_decoding_length=512,\n",
        "        beam_size=4\n",
        "    )\n",
        "\n",
        "    # Each result is a list of tokens, convert to string\n",
        "    batch_outputs = [\" \".join(r[0].tokens) for r in results]\n",
        "    all_outputs.extend(batch_outputs)\n"
      ],
      "metadata": {
        "colab": {
          "base_uri": "https://localhost:8080/",
          "height": 280,
          "referenced_widgets": [
            "f916a7bb739a4946a9d10ff90ef0da5b",
            "619bed9557df4b3f996b2b27cfdb20c1",
            "9d98dc6eef12421bac7dc6409d9e4625",
            "522c7d7a63ed4d44b438c97cf7c4fe1f",
            "01939ef48e534a7b9d4d86a0fa4a6f53",
            "c940ced63f8b489cac2ef0be859ee3ee",
            "2980d6ccd1384c52bdf4a7bc440d7a7d",
            "6a80da8141244084b1d62e3389d86ec9",
            "b929d0262dbe47b69306ef803c2e03a4",
            "6e7c5da0d4fd40328d45fc9eb1a2d867",
            "0edc70140dea4b69a6ebbb463879b133"
          ]
        },
        "id": "8LT5qe4Oanjb",
        "outputId": "e1d2228e-5cae-489a-e533-9680ba560b1a"
      },
      "execution_count": 29,
      "outputs": [
        {
          "output_type": "display_data",
          "data": {
            "text/plain": [
              "  0%|          | 0/231 [00:00<?, ?it/s]"
            ],
            "application/vnd.jupyter.widget-view+json": {
              "version_major": 2,
              "version_minor": 0,
              "model_id": "f916a7bb739a4946a9d10ff90ef0da5b"
            }
          },
          "metadata": {}
        },
        {
          "output_type": "stream",
          "name": "stderr",
          "text": [
            "/tmp/ipython-input-1453034932.py:15: DeprecationWarning: Reading the TranslationResult object as a list of dictionaries is deprecated and will be removed in a future version. Please use the object attributes as described in the documentation: https://opennmt.net/CTranslate2/python/ctranslate2.TranslationResult.html\n",
            "  batch_outputs = [\" \".join(r[0].tokens) for r in results]\n"
          ]
        },
        {
          "output_type": "error",
          "ename": "AttributeError",
          "evalue": "'dict' object has no attribute 'tokens'",
          "traceback": [
            "\u001b[0;31m---------------------------------------------------------------------------\u001b[0m",
            "\u001b[0;31mAttributeError\u001b[0m                            Traceback (most recent call last)",
            "\u001b[0;32m/tmp/ipython-input-1453034932.py\u001b[0m in \u001b[0;36m<cell line: 0>\u001b[0;34m()\u001b[0m\n\u001b[1;32m     13\u001b[0m \u001b[0;34m\u001b[0m\u001b[0m\n\u001b[1;32m     14\u001b[0m     \u001b[0;31m# Each result is a list of tokens, convert to string\u001b[0m\u001b[0;34m\u001b[0m\u001b[0;34m\u001b[0m\u001b[0m\n\u001b[0;32m---> 15\u001b[0;31m     \u001b[0mbatch_outputs\u001b[0m \u001b[0;34m=\u001b[0m \u001b[0;34m[\u001b[0m\u001b[0;34m\" \"\u001b[0m\u001b[0;34m.\u001b[0m\u001b[0mjoin\u001b[0m\u001b[0;34m(\u001b[0m\u001b[0mr\u001b[0m\u001b[0;34m[\u001b[0m\u001b[0;36m0\u001b[0m\u001b[0;34m]\u001b[0m\u001b[0;34m.\u001b[0m\u001b[0mtokens\u001b[0m\u001b[0;34m)\u001b[0m \u001b[0;32mfor\u001b[0m \u001b[0mr\u001b[0m \u001b[0;32min\u001b[0m \u001b[0mresults\u001b[0m\u001b[0;34m]\u001b[0m\u001b[0;34m\u001b[0m\u001b[0;34m\u001b[0m\u001b[0m\n\u001b[0m\u001b[1;32m     16\u001b[0m     \u001b[0mall_outputs\u001b[0m\u001b[0;34m.\u001b[0m\u001b[0mextend\u001b[0m\u001b[0;34m(\u001b[0m\u001b[0mbatch_outputs\u001b[0m\u001b[0;34m)\u001b[0m\u001b[0;34m\u001b[0m\u001b[0;34m\u001b[0m\u001b[0m\n",
            "\u001b[0;31mAttributeError\u001b[0m: 'dict' object has no attribute 'tokens'"
          ]
        }
      ]
    },
    {
      "cell_type": "code",
      "source": [
        "# Post-process CTranslate2 outputs\n",
        "clean_outputs = [output.replace(\"▁\", \" \").strip() for output in all_outputs]\n"
      ],
      "metadata": {
        "id": "LclEaZNla_Nw"
      },
      "execution_count": null,
      "outputs": []
    },
    {
      "cell_type": "code",
      "source": [
        "df = pd.DataFrame({\n",
        "    \"input_text\": inputs,\n",
        "    \"target\": labels,\n",
        "    \"generated_text\": clean_outputs\n",
        "})"
      ],
      "metadata": {
        "id": "eZ5gXzicbMEk"
      },
      "execution_count": null,
      "outputs": []
    },
    {
      "cell_type": "code",
      "source": [
        "df.head()"
      ],
      "metadata": {
        "id": "QsxHgZiQcXnP"
      },
      "execution_count": null,
      "outputs": []
    },
    {
      "cell_type": "code",
      "source": [
        "df.to_csv(\"t5-small-e2e_nlg_test_results_3epoch.csv\", index=False)\n",
        "print(\"Saved test predictions to 't5-small-e2e_nlg_test_results_3epoch.csv' \")"
      ],
      "metadata": {
        "id": "pfIii3JqbrcR"
      },
      "execution_count": null,
      "outputs": []
    }
  ],
  "metadata": {
    "accelerator": "GPU",
    "colab": {
      "gpuType": "T4",
      "provenance": []
    },
    "kernelspec": {
      "display_name": "Python 3",
      "name": "python3"
    },
    "language_info": {
      "name": "python"
    },
    "widgets": {
      "application/vnd.jupyter.widget-state+json": {
        "f04aab95d97e483298a16d607132ed1a": {
          "model_module": "@jupyter-widgets/controls",
          "model_name": "HBoxModel",
          "model_module_version": "1.5.0",
          "state": {
            "_dom_classes": [],
            "_model_module": "@jupyter-widgets/controls",
            "_model_module_version": "1.5.0",
            "_model_name": "HBoxModel",
            "_view_count": null,
            "_view_module": "@jupyter-widgets/controls",
            "_view_module_version": "1.5.0",
            "_view_name": "HBoxView",
            "box_style": "",
            "children": [
              "IPY_MODEL_c03a571ffa194fe18794aec2eae2454b",
              "IPY_MODEL_b060958b0b6c4734b2e2d1f028c56621",
              "IPY_MODEL_2a1b0e6b33b649ae82a24b0f0f5d3444"
            ],
            "layout": "IPY_MODEL_37102f6555b446a789df0d74f954c48b"
          }
        },
        "c03a571ffa194fe18794aec2eae2454b": {
          "model_module": "@jupyter-widgets/controls",
          "model_name": "HTMLModel",
          "model_module_version": "1.5.0",
          "state": {
            "_dom_classes": [],
            "_model_module": "@jupyter-widgets/controls",
            "_model_module_version": "1.5.0",
            "_model_name": "HTMLModel",
            "_view_count": null,
            "_view_module": "@jupyter-widgets/controls",
            "_view_module_version": "1.5.0",
            "_view_name": "HTMLView",
            "description": "",
            "description_tooltip": null,
            "layout": "IPY_MODEL_1a97af7c8341454fb911cec7c7ade55c",
            "placeholder": "​",
            "style": "IPY_MODEL_44b744772304448faac204ffee21ddaa",
            "value": "Map: 100%"
          }
        },
        "b060958b0b6c4734b2e2d1f028c56621": {
          "model_module": "@jupyter-widgets/controls",
          "model_name": "FloatProgressModel",
          "model_module_version": "1.5.0",
          "state": {
            "_dom_classes": [],
            "_model_module": "@jupyter-widgets/controls",
            "_model_module_version": "1.5.0",
            "_model_name": "FloatProgressModel",
            "_view_count": null,
            "_view_module": "@jupyter-widgets/controls",
            "_view_module_version": "1.5.0",
            "_view_name": "ProgressView",
            "bar_style": "success",
            "description": "",
            "description_tooltip": null,
            "layout": "IPY_MODEL_b0220955ad2a4d62985cab91ae1f7f3a",
            "max": 1484,
            "min": 0,
            "orientation": "horizontal",
            "style": "IPY_MODEL_80bf84f63fd042269862468f66b66e45",
            "value": 1484
          }
        },
        "2a1b0e6b33b649ae82a24b0f0f5d3444": {
          "model_module": "@jupyter-widgets/controls",
          "model_name": "HTMLModel",
          "model_module_version": "1.5.0",
          "state": {
            "_dom_classes": [],
            "_model_module": "@jupyter-widgets/controls",
            "_model_module_version": "1.5.0",
            "_model_name": "HTMLModel",
            "_view_count": null,
            "_view_module": "@jupyter-widgets/controls",
            "_view_module_version": "1.5.0",
            "_view_name": "HTMLView",
            "description": "",
            "description_tooltip": null,
            "layout": "IPY_MODEL_a12ca46c9bb24534908b28d3b0087676",
            "placeholder": "​",
            "style": "IPY_MODEL_e5805635b1444a1b8e2b779b47945e5e",
            "value": " 1484/1484 [00:01&lt;00:00, 832.04 examples/s]"
          }
        },
        "37102f6555b446a789df0d74f954c48b": {
          "model_module": "@jupyter-widgets/base",
          "model_name": "LayoutModel",
          "model_module_version": "1.2.0",
          "state": {
            "_model_module": "@jupyter-widgets/base",
            "_model_module_version": "1.2.0",
            "_model_name": "LayoutModel",
            "_view_count": null,
            "_view_module": "@jupyter-widgets/base",
            "_view_module_version": "1.2.0",
            "_view_name": "LayoutView",
            "align_content": null,
            "align_items": null,
            "align_self": null,
            "border": null,
            "bottom": null,
            "display": null,
            "flex": null,
            "flex_flow": null,
            "grid_area": null,
            "grid_auto_columns": null,
            "grid_auto_flow": null,
            "grid_auto_rows": null,
            "grid_column": null,
            "grid_gap": null,
            "grid_row": null,
            "grid_template_areas": null,
            "grid_template_columns": null,
            "grid_template_rows": null,
            "height": null,
            "justify_content": null,
            "justify_items": null,
            "left": null,
            "margin": null,
            "max_height": null,
            "max_width": null,
            "min_height": null,
            "min_width": null,
            "object_fit": null,
            "object_position": null,
            "order": null,
            "overflow": null,
            "overflow_x": null,
            "overflow_y": null,
            "padding": null,
            "right": null,
            "top": null,
            "visibility": null,
            "width": null
          }
        },
        "1a97af7c8341454fb911cec7c7ade55c": {
          "model_module": "@jupyter-widgets/base",
          "model_name": "LayoutModel",
          "model_module_version": "1.2.0",
          "state": {
            "_model_module": "@jupyter-widgets/base",
            "_model_module_version": "1.2.0",
            "_model_name": "LayoutModel",
            "_view_count": null,
            "_view_module": "@jupyter-widgets/base",
            "_view_module_version": "1.2.0",
            "_view_name": "LayoutView",
            "align_content": null,
            "align_items": null,
            "align_self": null,
            "border": null,
            "bottom": null,
            "display": null,
            "flex": null,
            "flex_flow": null,
            "grid_area": null,
            "grid_auto_columns": null,
            "grid_auto_flow": null,
            "grid_auto_rows": null,
            "grid_column": null,
            "grid_gap": null,
            "grid_row": null,
            "grid_template_areas": null,
            "grid_template_columns": null,
            "grid_template_rows": null,
            "height": null,
            "justify_content": null,
            "justify_items": null,
            "left": null,
            "margin": null,
            "max_height": null,
            "max_width": null,
            "min_height": null,
            "min_width": null,
            "object_fit": null,
            "object_position": null,
            "order": null,
            "overflow": null,
            "overflow_x": null,
            "overflow_y": null,
            "padding": null,
            "right": null,
            "top": null,
            "visibility": null,
            "width": null
          }
        },
        "44b744772304448faac204ffee21ddaa": {
          "model_module": "@jupyter-widgets/controls",
          "model_name": "DescriptionStyleModel",
          "model_module_version": "1.5.0",
          "state": {
            "_model_module": "@jupyter-widgets/controls",
            "_model_module_version": "1.5.0",
            "_model_name": "DescriptionStyleModel",
            "_view_count": null,
            "_view_module": "@jupyter-widgets/base",
            "_view_module_version": "1.2.0",
            "_view_name": "StyleView",
            "description_width": ""
          }
        },
        "b0220955ad2a4d62985cab91ae1f7f3a": {
          "model_module": "@jupyter-widgets/base",
          "model_name": "LayoutModel",
          "model_module_version": "1.2.0",
          "state": {
            "_model_module": "@jupyter-widgets/base",
            "_model_module_version": "1.2.0",
            "_model_name": "LayoutModel",
            "_view_count": null,
            "_view_module": "@jupyter-widgets/base",
            "_view_module_version": "1.2.0",
            "_view_name": "LayoutView",
            "align_content": null,
            "align_items": null,
            "align_self": null,
            "border": null,
            "bottom": null,
            "display": null,
            "flex": null,
            "flex_flow": null,
            "grid_area": null,
            "grid_auto_columns": null,
            "grid_auto_flow": null,
            "grid_auto_rows": null,
            "grid_column": null,
            "grid_gap": null,
            "grid_row": null,
            "grid_template_areas": null,
            "grid_template_columns": null,
            "grid_template_rows": null,
            "height": null,
            "justify_content": null,
            "justify_items": null,
            "left": null,
            "margin": null,
            "max_height": null,
            "max_width": null,
            "min_height": null,
            "min_width": null,
            "object_fit": null,
            "object_position": null,
            "order": null,
            "overflow": null,
            "overflow_x": null,
            "overflow_y": null,
            "padding": null,
            "right": null,
            "top": null,
            "visibility": null,
            "width": null
          }
        },
        "80bf84f63fd042269862468f66b66e45": {
          "model_module": "@jupyter-widgets/controls",
          "model_name": "ProgressStyleModel",
          "model_module_version": "1.5.0",
          "state": {
            "_model_module": "@jupyter-widgets/controls",
            "_model_module_version": "1.5.0",
            "_model_name": "ProgressStyleModel",
            "_view_count": null,
            "_view_module": "@jupyter-widgets/base",
            "_view_module_version": "1.2.0",
            "_view_name": "StyleView",
            "bar_color": null,
            "description_width": ""
          }
        },
        "a12ca46c9bb24534908b28d3b0087676": {
          "model_module": "@jupyter-widgets/base",
          "model_name": "LayoutModel",
          "model_module_version": "1.2.0",
          "state": {
            "_model_module": "@jupyter-widgets/base",
            "_model_module_version": "1.2.0",
            "_model_name": "LayoutModel",
            "_view_count": null,
            "_view_module": "@jupyter-widgets/base",
            "_view_module_version": "1.2.0",
            "_view_name": "LayoutView",
            "align_content": null,
            "align_items": null,
            "align_self": null,
            "border": null,
            "bottom": null,
            "display": null,
            "flex": null,
            "flex_flow": null,
            "grid_area": null,
            "grid_auto_columns": null,
            "grid_auto_flow": null,
            "grid_auto_rows": null,
            "grid_column": null,
            "grid_gap": null,
            "grid_row": null,
            "grid_template_areas": null,
            "grid_template_columns": null,
            "grid_template_rows": null,
            "height": null,
            "justify_content": null,
            "justify_items": null,
            "left": null,
            "margin": null,
            "max_height": null,
            "max_width": null,
            "min_height": null,
            "min_width": null,
            "object_fit": null,
            "object_position": null,
            "order": null,
            "overflow": null,
            "overflow_x": null,
            "overflow_y": null,
            "padding": null,
            "right": null,
            "top": null,
            "visibility": null,
            "width": null
          }
        },
        "e5805635b1444a1b8e2b779b47945e5e": {
          "model_module": "@jupyter-widgets/controls",
          "model_name": "DescriptionStyleModel",
          "model_module_version": "1.5.0",
          "state": {
            "_model_module": "@jupyter-widgets/controls",
            "_model_module_version": "1.5.0",
            "_model_name": "DescriptionStyleModel",
            "_view_count": null,
            "_view_module": "@jupyter-widgets/base",
            "_view_module_version": "1.2.0",
            "_view_name": "StyleView",
            "description_width": ""
          }
        },
        "f916a7bb739a4946a9d10ff90ef0da5b": {
          "model_module": "@jupyter-widgets/controls",
          "model_name": "HBoxModel",
          "model_module_version": "1.5.0",
          "state": {
            "_dom_classes": [],
            "_model_module": "@jupyter-widgets/controls",
            "_model_module_version": "1.5.0",
            "_model_name": "HBoxModel",
            "_view_count": null,
            "_view_module": "@jupyter-widgets/controls",
            "_view_module_version": "1.5.0",
            "_view_name": "HBoxView",
            "box_style": "",
            "children": [
              "IPY_MODEL_619bed9557df4b3f996b2b27cfdb20c1",
              "IPY_MODEL_9d98dc6eef12421bac7dc6409d9e4625",
              "IPY_MODEL_522c7d7a63ed4d44b438c97cf7c4fe1f"
            ],
            "layout": "IPY_MODEL_01939ef48e534a7b9d4d86a0fa4a6f53"
          }
        },
        "619bed9557df4b3f996b2b27cfdb20c1": {
          "model_module": "@jupyter-widgets/controls",
          "model_name": "HTMLModel",
          "model_module_version": "1.5.0",
          "state": {
            "_dom_classes": [],
            "_model_module": "@jupyter-widgets/controls",
            "_model_module_version": "1.5.0",
            "_model_name": "HTMLModel",
            "_view_count": null,
            "_view_module": "@jupyter-widgets/controls",
            "_view_module_version": "1.5.0",
            "_view_name": "HTMLView",
            "description": "",
            "description_tooltip": null,
            "layout": "IPY_MODEL_c940ced63f8b489cac2ef0be859ee3ee",
            "placeholder": "​",
            "style": "IPY_MODEL_2980d6ccd1384c52bdf4a7bc440d7a7d",
            "value": "  0%"
          }
        },
        "9d98dc6eef12421bac7dc6409d9e4625": {
          "model_module": "@jupyter-widgets/controls",
          "model_name": "FloatProgressModel",
          "model_module_version": "1.5.0",
          "state": {
            "_dom_classes": [],
            "_model_module": "@jupyter-widgets/controls",
            "_model_module_version": "1.5.0",
            "_model_name": "FloatProgressModel",
            "_view_count": null,
            "_view_module": "@jupyter-widgets/controls",
            "_view_module_version": "1.5.0",
            "_view_name": "ProgressView",
            "bar_style": "danger",
            "description": "",
            "description_tooltip": null,
            "layout": "IPY_MODEL_6a80da8141244084b1d62e3389d86ec9",
            "max": 231,
            "min": 0,
            "orientation": "horizontal",
            "style": "IPY_MODEL_b929d0262dbe47b69306ef803c2e03a4",
            "value": 0
          }
        },
        "522c7d7a63ed4d44b438c97cf7c4fe1f": {
          "model_module": "@jupyter-widgets/controls",
          "model_name": "HTMLModel",
          "model_module_version": "1.5.0",
          "state": {
            "_dom_classes": [],
            "_model_module": "@jupyter-widgets/controls",
            "_model_module_version": "1.5.0",
            "_model_name": "HTMLModel",
            "_view_count": null,
            "_view_module": "@jupyter-widgets/controls",
            "_view_module_version": "1.5.0",
            "_view_name": "HTMLView",
            "description": "",
            "description_tooltip": null,
            "layout": "IPY_MODEL_6e7c5da0d4fd40328d45fc9eb1a2d867",
            "placeholder": "​",
            "style": "IPY_MODEL_0edc70140dea4b69a6ebbb463879b133",
            "value": " 0/231 [00:03&lt;?, ?it/s]"
          }
        },
        "01939ef48e534a7b9d4d86a0fa4a6f53": {
          "model_module": "@jupyter-widgets/base",
          "model_name": "LayoutModel",
          "model_module_version": "1.2.0",
          "state": {
            "_model_module": "@jupyter-widgets/base",
            "_model_module_version": "1.2.0",
            "_model_name": "LayoutModel",
            "_view_count": null,
            "_view_module": "@jupyter-widgets/base",
            "_view_module_version": "1.2.0",
            "_view_name": "LayoutView",
            "align_content": null,
            "align_items": null,
            "align_self": null,
            "border": null,
            "bottom": null,
            "display": null,
            "flex": null,
            "flex_flow": null,
            "grid_area": null,
            "grid_auto_columns": null,
            "grid_auto_flow": null,
            "grid_auto_rows": null,
            "grid_column": null,
            "grid_gap": null,
            "grid_row": null,
            "grid_template_areas": null,
            "grid_template_columns": null,
            "grid_template_rows": null,
            "height": null,
            "justify_content": null,
            "justify_items": null,
            "left": null,
            "margin": null,
            "max_height": null,
            "max_width": null,
            "min_height": null,
            "min_width": null,
            "object_fit": null,
            "object_position": null,
            "order": null,
            "overflow": null,
            "overflow_x": null,
            "overflow_y": null,
            "padding": null,
            "right": null,
            "top": null,
            "visibility": null,
            "width": null
          }
        },
        "c940ced63f8b489cac2ef0be859ee3ee": {
          "model_module": "@jupyter-widgets/base",
          "model_name": "LayoutModel",
          "model_module_version": "1.2.0",
          "state": {
            "_model_module": "@jupyter-widgets/base",
            "_model_module_version": "1.2.0",
            "_model_name": "LayoutModel",
            "_view_count": null,
            "_view_module": "@jupyter-widgets/base",
            "_view_module_version": "1.2.0",
            "_view_name": "LayoutView",
            "align_content": null,
            "align_items": null,
            "align_self": null,
            "border": null,
            "bottom": null,
            "display": null,
            "flex": null,
            "flex_flow": null,
            "grid_area": null,
            "grid_auto_columns": null,
            "grid_auto_flow": null,
            "grid_auto_rows": null,
            "grid_column": null,
            "grid_gap": null,
            "grid_row": null,
            "grid_template_areas": null,
            "grid_template_columns": null,
            "grid_template_rows": null,
            "height": null,
            "justify_content": null,
            "justify_items": null,
            "left": null,
            "margin": null,
            "max_height": null,
            "max_width": null,
            "min_height": null,
            "min_width": null,
            "object_fit": null,
            "object_position": null,
            "order": null,
            "overflow": null,
            "overflow_x": null,
            "overflow_y": null,
            "padding": null,
            "right": null,
            "top": null,
            "visibility": null,
            "width": null
          }
        },
        "2980d6ccd1384c52bdf4a7bc440d7a7d": {
          "model_module": "@jupyter-widgets/controls",
          "model_name": "DescriptionStyleModel",
          "model_module_version": "1.5.0",
          "state": {
            "_model_module": "@jupyter-widgets/controls",
            "_model_module_version": "1.5.0",
            "_model_name": "DescriptionStyleModel",
            "_view_count": null,
            "_view_module": "@jupyter-widgets/base",
            "_view_module_version": "1.2.0",
            "_view_name": "StyleView",
            "description_width": ""
          }
        },
        "6a80da8141244084b1d62e3389d86ec9": {
          "model_module": "@jupyter-widgets/base",
          "model_name": "LayoutModel",
          "model_module_version": "1.2.0",
          "state": {
            "_model_module": "@jupyter-widgets/base",
            "_model_module_version": "1.2.0",
            "_model_name": "LayoutModel",
            "_view_count": null,
            "_view_module": "@jupyter-widgets/base",
            "_view_module_version": "1.2.0",
            "_view_name": "LayoutView",
            "align_content": null,
            "align_items": null,
            "align_self": null,
            "border": null,
            "bottom": null,
            "display": null,
            "flex": null,
            "flex_flow": null,
            "grid_area": null,
            "grid_auto_columns": null,
            "grid_auto_flow": null,
            "grid_auto_rows": null,
            "grid_column": null,
            "grid_gap": null,
            "grid_row": null,
            "grid_template_areas": null,
            "grid_template_columns": null,
            "grid_template_rows": null,
            "height": null,
            "justify_content": null,
            "justify_items": null,
            "left": null,
            "margin": null,
            "max_height": null,
            "max_width": null,
            "min_height": null,
            "min_width": null,
            "object_fit": null,
            "object_position": null,
            "order": null,
            "overflow": null,
            "overflow_x": null,
            "overflow_y": null,
            "padding": null,
            "right": null,
            "top": null,
            "visibility": null,
            "width": null
          }
        },
        "b929d0262dbe47b69306ef803c2e03a4": {
          "model_module": "@jupyter-widgets/controls",
          "model_name": "ProgressStyleModel",
          "model_module_version": "1.5.0",
          "state": {
            "_model_module": "@jupyter-widgets/controls",
            "_model_module_version": "1.5.0",
            "_model_name": "ProgressStyleModel",
            "_view_count": null,
            "_view_module": "@jupyter-widgets/base",
            "_view_module_version": "1.2.0",
            "_view_name": "StyleView",
            "bar_color": null,
            "description_width": ""
          }
        },
        "6e7c5da0d4fd40328d45fc9eb1a2d867": {
          "model_module": "@jupyter-widgets/base",
          "model_name": "LayoutModel",
          "model_module_version": "1.2.0",
          "state": {
            "_model_module": "@jupyter-widgets/base",
            "_model_module_version": "1.2.0",
            "_model_name": "LayoutModel",
            "_view_count": null,
            "_view_module": "@jupyter-widgets/base",
            "_view_module_version": "1.2.0",
            "_view_name": "LayoutView",
            "align_content": null,
            "align_items": null,
            "align_self": null,
            "border": null,
            "bottom": null,
            "display": null,
            "flex": null,
            "flex_flow": null,
            "grid_area": null,
            "grid_auto_columns": null,
            "grid_auto_flow": null,
            "grid_auto_rows": null,
            "grid_column": null,
            "grid_gap": null,
            "grid_row": null,
            "grid_template_areas": null,
            "grid_template_columns": null,
            "grid_template_rows": null,
            "height": null,
            "justify_content": null,
            "justify_items": null,
            "left": null,
            "margin": null,
            "max_height": null,
            "max_width": null,
            "min_height": null,
            "min_width": null,
            "object_fit": null,
            "object_position": null,
            "order": null,
            "overflow": null,
            "overflow_x": null,
            "overflow_y": null,
            "padding": null,
            "right": null,
            "top": null,
            "visibility": null,
            "width": null
          }
        },
        "0edc70140dea4b69a6ebbb463879b133": {
          "model_module": "@jupyter-widgets/controls",
          "model_name": "DescriptionStyleModel",
          "model_module_version": "1.5.0",
          "state": {
            "_model_module": "@jupyter-widgets/controls",
            "_model_module_version": "1.5.0",
            "_model_name": "DescriptionStyleModel",
            "_view_count": null,
            "_view_module": "@jupyter-widgets/base",
            "_view_module_version": "1.2.0",
            "_view_name": "StyleView",
            "description_width": ""
          }
        }
      }
    }
  },
  "nbformat": 4,
  "nbformat_minor": 0
}